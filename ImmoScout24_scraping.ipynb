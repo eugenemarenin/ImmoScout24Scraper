{
 "cells": [
  {
   "cell_type": "code",
   "execution_count": null,
   "id": "db7edffa",
   "metadata": {},
   "outputs": [],
   "source": [
    "import random\n",
    "import time\n",
    "import pandas as pd\n",
    "import selenium\n",
    "from selenium.webdriver.chrome.options import Options"
   ]
  },
  {
   "cell_type": "markdown",
   "id": "b3b99e95",
   "metadata": {},
   "source": [
    "**Important: you need to install Chromedriver (https://googlechromelabs.github.io/chrome-for-testing/) to launch the code below**"
   ]
  },
  {
   "cell_type": "code",
   "execution_count": null,
   "id": "14a4cc3e",
   "metadata": {},
   "outputs": [],
   "source": [
    "DRIVER_PATH = './chromedriver-win64/chromedriver-win64/chromedriver.exe'\n",
    "\n",
    "# Set up Chrome WebDriver\n",
    "from selenium import webdriver\n",
    "from selenium.webdriver.chrome.service import Service\n",
    "from selenium.webdriver.common.by import By\n",
    "service = Service(executable_path=DRIVER_PATH)\n",
    "driver = webdriver.Chrome(service=service)"
   ]
  },
  {
   "cell_type": "code",
   "execution_count": null,
   "id": "080ec72e",
   "metadata": {},
   "outputs": [],
   "source": [
    "page_number =  "
   ]
  },
  {
   "cell_type": "markdown",
   "id": "c21f1435",
   "metadata": {},
   "source": [
    "**KEEP IN MIND THAT YOU MAY NEED TO PASS CAPTCHA MANUALLY FOR SOME PAGES DURING THE TIMEOUT**"
   ]
  },
  {
   "cell_type": "code",
   "execution_count": null,
   "id": "ac4e3107",
   "metadata": {
    "scrolled": true
   },
   "outputs": [],
   "source": [
    "results = {'name': [], 'address': [], 'price': [], 'square': [], 'rooms': [], 'link': []}\n",
    "for i in range (1, page_number+1):\n",
    "    driver.get(f'https://www.immobilienscout24.de/Suche/de/sachsen/leipzig/wohnung-mieten?pagenumber={i}')\n",
    "    time.sleep(random.uniform(10, 15))\n",
    "    # Type 'p' ()\n",
    "    for elem in driver.find_elements(\"xpath\", '//*[@id]/div[1]/a/h2'):\n",
    "        results['name'].append(elem.text)\n",
    "    for elem in driver.find_elements(\"xpath\", '//*[@id]/div[2]/div[2]/div[1]/div[2]/div[2]/button/span[2]'):\n",
    "        results['address'].append(elem.text)\n",
    "    for elem in driver.find_elements(\"xpath\", '//*[@id]/div[3]/div[2]/div[1]/div/div/div[2]/a/div/div[1]/div[1]/span'):\n",
    "        results['price'].append(elem.text)\n",
    "    for elem in driver.find_elements(\"xpath\", '//*[@id]/div[3]/div[2]/div[1]/div/div/div[2]/a/div/div[1]/div[2]/span'):\n",
    "        results['square'].append(elem.text)\n",
    "    for elem in driver.find_elements(\"xpath\", '//*[@id]/div[3]/div[2]/div[1]/div/div/div[2]/a/div/div[1]/div[3]/span'):\n",
    "        results['rooms'].append(elem.text)\n",
    "    for elem in driver.find_elements(\"xpath\", '//*[@id]/div[2]/div[2]/div[1]/div[3]/div[2]/a'):\n",
    "        results['link'].append(elem.get_attribute('href'))\n",
    "    # Type 'xl'\n",
    "    for elem in driver.find_elements(\"xpath\", '//*[@id]/div[5]/div/div[1]/div[1]/a/h2'):\n",
    "        results['name'].append(elem.text)\n",
    "    for elem in driver.find_elements(\"xpath\", '//*[@id]/div[5]/div/div[3]/div[2]/button/span[2]'):\n",
    "        results['address'].append(elem.text)\n",
    "    for elem in driver.find_elements(\"xpath\", '//*[@id]/div[5]/div/div[4]/div[1]/div[1]/a/div/dl[1]/dd'):\n",
    "        results['price'].append(elem.text)\n",
    "    for elem in driver.find_elements(\"xpath\", '//*[@id]/div[5]/div/div[4]/div[1]/div[1]/a/div/dl[2]/dd'):\n",
    "        results['square'].append(elem.text)\n",
    "    for elem in driver.find_elements(\"xpath\", '//*[@id]/div[5]/div/div[4]/div[1]/div[1]/a/div/dl[3]/dd/span[2]'):\n",
    "        results['rooms'].append(elem.text)\n",
    "    for elem in driver.find_elements(\"xpath\", '//*[@id]/div[5]/div/div[1]/div[1]/a'):\n",
    "        results['link'].append(elem.get_attribute('href'))\n",
    "    # Type 'l'\n",
    "    for elem in driver.find_elements(\"xpath\", '//*[@id]/div[1]/div[3]/div/a/h2'):\n",
    "        results['name'].append(elem.text)\n",
    "    for elem in driver.find_elements(\"xpath\", '//*[@id]/div[1]/div[3]/div/div[3]/div[2]/button/span[2]'):\n",
    "        results['address'].append(elem.text)\n",
    "    for elem in driver.find_elements(\"xpath\", '//*[@id]/div[1]/div[3]/div/div[4]/a/div/dl[1]/dd'):\n",
    "        results['price'].append(elem.text)\n",
    "    for elem in driver.find_elements(\"xpath\", '//*[@id]/div[1]/div[3]/div/div[4]/a/div/dl[2]/dd'):\n",
    "        results['square'].append(elem.text)\n",
    "    for elem in driver.find_elements(\"xpath\", '//*[@id]/div[1]/div[3]/div/div[4]/a/div/dl[3]/dd/span[2]'):\n",
    "        results['rooms'].append(elem.text)\n",
    "    for elem in driver.find_elements(\"xpath\", '//*[@id]/div[1]/div[3]/div/a'):\n",
    "        results['link'].append(elem.get_attribute('href'))   \n",
    "    if len(results['name']) != len(results['link']):\n",
    "        break"
   ]
  },
  {
   "cell_type": "code",
   "execution_count": null,
   "id": "b83792ff",
   "metadata": {},
   "outputs": [],
   "source": [
    "results"
   ]
  },
  {
   "cell_type": "code",
   "execution_count": null,
   "id": "fc15c0ee",
   "metadata": {
    "scrolled": false
   },
   "outputs": [],
   "source": [
    "df = pd.DataFrame(results)"
   ]
  },
  {
   "cell_type": "code",
   "execution_count": null,
   "id": "007b67fc",
   "metadata": {},
   "outputs": [],
   "source": [
    "df.to_csv('Leipzig.csv')"
   ]
  },
  {
   "cell_type": "code",
   "execution_count": null,
   "id": "247d996b",
   "metadata": {},
   "outputs": [],
   "source": [
    "df"
   ]
  },
  {
   "cell_type": "code",
   "execution_count": null,
   "id": "f3e0432f",
   "metadata": {},
   "outputs": [],
   "source": []
  }
 ],
 "metadata": {
  "kernelspec": {
   "display_name": "Python 3 (ipykernel)",
   "language": "python",
   "name": "python3"
  },
  "language_info": {
   "codemirror_mode": {
    "name": "ipython",
    "version": 3
   },
   "file_extension": ".py",
   "mimetype": "text/x-python",
   "name": "python",
   "nbconvert_exporter": "python",
   "pygments_lexer": "ipython3",
   "version": "3.12.3"
  }
 },
 "nbformat": 4,
 "nbformat_minor": 5
}
